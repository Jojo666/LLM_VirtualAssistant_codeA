{
 "cells": [
  {
   "cell_type": "code",
   "execution_count": null,
   "id": "46b63368-18ea-4c15-8b46-5fa94da337b0",
   "metadata": {},
   "outputs": [],
   "source": []
  },
  {
   "cell_type": "code",
   "execution_count": null,
   "id": "eed05f2b-5782-47f5-83fe-8a2c31c43d94",
   "metadata": {},
   "outputs": [],
   "source": []
  },
  {
   "cell_type": "code",
   "execution_count": 4,
   "id": "77c7c4e4-5d15-4694-88f5-80c593c8d8ec",
   "metadata": {
    "execution": {
     "iopub.execute_input": "2023-08-29T20:59:34.615244Z",
     "iopub.status.busy": "2023-08-29T20:59:34.614860Z",
     "iopub.status.idle": "2023-08-29T20:59:38.656928Z",
     "shell.execute_reply": "2023-08-29T20:59:38.656178Z",
     "shell.execute_reply.started": "2023-08-29T20:59:34.615204Z"
    },
    "tags": []
   },
   "outputs": [
    {
     "name": "stdout",
     "output_type": "stream",
     "text": [
      "Collecting nltk\n",
      "  Using cached nltk-3.8.1-py3-none-any.whl (1.5 MB)\n",
      "Requirement already satisfied: click in /opt/saturncloud/envs/saturn/lib/python3.9/site-packages (from nltk) (8.0.4)\n",
      "Requirement already satisfied: joblib in /opt/saturncloud/envs/saturn/lib/python3.9/site-packages (from nltk) (1.3.0)\n",
      "Collecting regex>=2021.8.3 (from nltk)\n",
      "  Obtaining dependency information for regex>=2021.8.3 from https://files.pythonhosted.org/packages/c0/f4/278e305e02245937579a7952b8a3205116b4d2480a3c03fa11e599b773d6/regex-2023.8.8-cp39-cp39-manylinux_2_17_x86_64.manylinux2014_x86_64.whl.metadata\n",
      "  Using cached regex-2023.8.8-cp39-cp39-manylinux_2_17_x86_64.manylinux2014_x86_64.whl.metadata (40 kB)\n",
      "Requirement already satisfied: tqdm in /opt/saturncloud/envs/saturn/lib/python3.9/site-packages (from nltk) (4.65.0)\n",
      "Using cached regex-2023.8.8-cp39-cp39-manylinux_2_17_x86_64.manylinux2014_x86_64.whl (771 kB)\n",
      "Installing collected packages: regex, nltk\n",
      "Successfully installed nltk-3.8.1 regex-2023.8.8\n"
     ]
    }
   ],
   "source": [
    "! pip install --upgrade nltk"
   ]
  },
  {
   "cell_type": "code",
   "execution_count": 5,
   "id": "a69191f9-07d3-48ee-b7e9-e4fe071b598b",
   "metadata": {
    "execution": {
     "iopub.execute_input": "2023-08-29T20:59:49.733814Z",
     "iopub.status.busy": "2023-08-29T20:59:49.733426Z",
     "iopub.status.idle": "2023-08-29T20:59:51.344299Z",
     "shell.execute_reply": "2023-08-29T20:59:51.343695Z",
     "shell.execute_reply.started": "2023-08-29T20:59:49.733787Z"
    },
    "tags": []
   },
   "outputs": [
    {
     "name": "stderr",
     "output_type": "stream",
     "text": [
      "[nltk_data] Downloading package stopwords to /home/jovyan/nltk_data...\n",
      "[nltk_data]   Package stopwords is already up-to-date!\n"
     ]
    }
   ],
   "source": [
    "import pandas as pd\n",
    "import numpy as np\n",
    "from nltk.corpus import stopwords\n",
    "import nltk\n",
    "nltk.download('stopwords')\n",
    "import re\n",
    "from sklearn.feature_extraction.text import TfidfVectorizer \n",
    "from sklearn.metrics.pairwise import cosine_similarity\n",
    "from sklearn.metrics.pairwise import euclidean_distances"
   ]
  },
  {
   "cell_type": "code",
   "execution_count": null,
   "id": "f838820e-22c1-48f1-9909-3889373cfafa",
   "metadata": {},
   "outputs": [],
   "source": []
  },
  {
   "cell_type": "code",
   "execution_count": 6,
   "id": "c7f79f0a-46f7-41d9-b2c6-3d425d290c47",
   "metadata": {
    "execution": {
     "iopub.execute_input": "2023-08-29T21:01:38.299651Z",
     "iopub.status.busy": "2023-08-29T21:01:38.299019Z",
     "iopub.status.idle": "2023-08-29T21:01:38.303683Z",
     "shell.execute_reply": "2023-08-29T21:01:38.302964Z",
     "shell.execute_reply.started": "2023-08-29T21:01:38.299626Z"
    },
    "tags": []
   },
   "outputs": [],
   "source": [
    "# Sample corpus\n",
    "documents = ['Machine learning is the study of computer algorithms that improve automatically through experience.\\\n",
    "Machine learning algorithms build a mathematical model based on sample data, known as training data.\\\n",
    "The discipline of machine learning employs various approaches to teach computers to accomplish tasks \\\n",
    "where no fully satisfactory algorithm is available.',\n",
    "'Machine learning is closely related to computational statistics, which focuses on making predictions using computers.\\\n",
    "The study of mathematical optimization delivers methods, theory and application domains to the field of machine learning.',\n",
    "'Machine learning involves computers discovering how they can perform tasks without being explicitly programmed to do so. \\\n",
    "It involves computers learning from data provided so that they carry out certain tasks.',\n",
    "'Machine learning approaches are traditionally divided into three broad categories, depending on the nature of the \"signal\"\\\n",
    "or \"feedback\" available to the learning system: Supervised, Unsupervised and Reinforcement',\n",
    "'Software engineering is the systematic application of engineering approaches to the development of software.\\\n",
    "Software engineering is a computing discipline.',\n",
    "'A software engineer creates programs based on logic for the computer to execute. A software engineer has to be more concerned\\\n",
    "about the correctness of the program in all the cases. Meanwhile, a data scientist is comfortable with uncertainty and variability.\\\n",
    "Developing a machine learning application is more iterative and explorative process than software engineering.'\n",
    "]\n"
   ]
  },
  {
   "cell_type": "code",
   "execution_count": 7,
   "id": "ce9fce32-466c-42d5-8ca5-c05c722bffa9",
   "metadata": {
    "execution": {
     "iopub.execute_input": "2023-08-29T21:01:51.346981Z",
     "iopub.status.busy": "2023-08-29T21:01:51.346604Z",
     "iopub.status.idle": "2023-08-29T21:01:51.351027Z",
     "shell.execute_reply": "2023-08-29T21:01:51.350321Z",
     "shell.execute_reply.started": "2023-08-29T21:01:51.346959Z"
    },
    "tags": []
   },
   "outputs": [],
   "source": [
    "documents_df=pd.DataFrame(documents,columns=['documents'])\n"
   ]
  },
  {
   "cell_type": "code",
   "execution_count": null,
   "id": "7a8a4037-e58c-4c19-8dee-c1f65d9ec517",
   "metadata": {},
   "outputs": [],
   "source": []
  },
  {
   "cell_type": "code",
   "execution_count": 8,
   "id": "1540c5dd-63cd-405f-bde9-43cf310dea9a",
   "metadata": {
    "execution": {
     "iopub.execute_input": "2023-08-29T21:02:25.290474Z",
     "iopub.status.busy": "2023-08-29T21:02:25.290092Z",
     "iopub.status.idle": "2023-08-29T21:02:25.297720Z",
     "shell.execute_reply": "2023-08-29T21:02:25.297170Z",
     "shell.execute_reply.started": "2023-08-29T21:02:25.290451Z"
    },
    "tags": []
   },
   "outputs": [],
   "source": [
    "# removing special characters and stop words from the text\n",
    "stop_words_l=stopwords.words('english')\n",
    "documents_df['documents_cleaned']=documents_df.documents.apply(lambda x: \" \".join(re.sub(r'[^a-zA-Z]',' ',w).lower() for w in x.split() if re.sub(r'[^a-zA-Z]',' ',w).lower() not in stop_words_l) )  \n"
   ]
  },
  {
   "cell_type": "code",
   "execution_count": 9,
   "id": "98c4cf60-4435-419d-b1b4-5efc441bd3b8",
   "metadata": {
    "execution": {
     "iopub.execute_input": "2023-08-29T21:02:34.193892Z",
     "iopub.status.busy": "2023-08-29T21:02:34.193506Z",
     "iopub.status.idle": "2023-08-29T21:02:34.207010Z",
     "shell.execute_reply": "2023-08-29T21:02:34.206462Z",
     "shell.execute_reply.started": "2023-08-29T21:02:34.193868Z"
    },
    "tags": []
   },
   "outputs": [
    {
     "name": "stdout",
     "output_type": "stream",
     "text": [
      "Document: Machine learning is the study of computer algorithms that improve automatically through experience.Machine learning algorithms build a mathematical model based on sample data, known as training data.The discipline of machine learning employs various approaches to teach computers to accomplish tasks where no fully satisfactory algorithm is available.\n",
      "\n",
      "\n",
      "Similar Documents:\n",
      "\n",
      "\n",
      "Document: Machine learning is closely related to computational statistics, which focuses on making predictions using computers.The study of mathematical optimization delivers methods, theory and application domains to the field of machine learning.\n",
      "Cosine Similarity : 0.22860560787391593\n",
      "\n",
      "\n",
      "Document: Machine learning involves computers discovering how they can perform tasks without being explicitly programmed to do so. It involves computers learning from data provided so that they carry out certain tasks.\n",
      "Cosine Similarity : 0.22581304743529423\n",
      "\n",
      "\n",
      "Document: Machine learning approaches are traditionally divided into three broad categories, depending on the nature of the \"signal\"or \"feedback\" available to the learning system: Supervised, Unsupervised and Reinforcement\n",
      "Cosine Similarity : 0.15314340308039842\n",
      "\n",
      "\n",
      "Document: A software engineer creates programs based on logic for the computer to execute. A software engineer has to be more concernedabout the correctness of the program in all the cases. Meanwhile, a data scientist is comfortable with uncertainty and variability.Developing a machine learning application is more iterative and explorative process than software engineering.\n",
      "Cosine Similarity : 0.12407396777398046\n",
      "\n",
      "\n",
      "Document: Software engineering is the systematic application of engineering approaches to the development of software.Software engineering is a computing discipline.\n",
      "Cosine Similarity : 0.04978528121489196\n",
      "Document: Machine learning is the study of computer algorithms that improve automatically through experience.Machine learning algorithms build a mathematical model based on sample data, known as training data.The discipline of machine learning employs various approaches to teach computers to accomplish tasks where no fully satisfactory algorithm is available.\n",
      "\n",
      "\n",
      "Similar Documents:\n",
      "\n",
      "\n",
      "Document: Machine learning is closely related to computational statistics, which focuses on making predictions using computers.The study of mathematical optimization delivers methods, theory and application domains to the field of machine learning.\n",
      "Euclidean Distance : 1.2420904895586988\n",
      "\n",
      "\n",
      "Document: Machine learning involves computers discovering how they can perform tasks without being explicitly programmed to do so. It involves computers learning from data provided so that they carry out certain tasks.\n",
      "Euclidean Distance : 1.2443367330145854\n",
      "\n",
      "\n",
      "Document: Machine learning approaches are traditionally divided into three broad categories, depending on the nature of the \"signal\"or \"feedback\" available to the learning system: Supervised, Unsupervised and Reinforcement\n",
      "Euclidean Distance : 1.3014273678692956\n",
      "\n",
      "\n",
      "Document: A software engineer creates programs based on logic for the computer to execute. A software engineer has to be more concernedabout the correctness of the program in all the cases. Meanwhile, a data scientist is comfortable with uncertainty and variability.Developing a machine learning application is more iterative and explorative process than software engineering.\n",
      "Euclidean Distance : 1.3235754849845318\n",
      "\n",
      "\n",
      "Document: Software engineering is the systematic application of engineering approaches to the development of software.Software engineering is a computing discipline.\n",
      "Euclidean Distance : 1.378560639787099\n"
     ]
    }
   ],
   "source": [
    "tfidfvectoriser=TfidfVectorizer()\n",
    "tfidfvectoriser.fit(documents_df.documents_cleaned)\n",
    "tfidf_vectors=tfidfvectoriser.transform(documents_df.documents_cleaned)\n",
    "\n",
    "pairwise_similarities=np.dot(tfidf_vectors,tfidf_vectors.T).toarray()\n",
    "pairwise_differences=euclidean_distances(tfidf_vectors)\n",
    "\n",
    "def most_similar(doc_id,similarity_matrix,matrix):\n",
    "    print (f'Document: {documents_df.iloc[doc_id][\"documents\"]}')\n",
    "    print ('\\n')\n",
    "    print ('Similar Documents:')\n",
    "    if matrix=='Cosine Similarity':\n",
    "        similar_ix=np.argsort(similarity_matrix[doc_id])[::-1]\n",
    "    elif matrix=='Euclidean Distance':\n",
    "        similar_ix=np.argsort(similarity_matrix[doc_id])\n",
    "    for ix in similar_ix:\n",
    "        if ix==doc_id:\n",
    "            continue\n",
    "        print('\\n')\n",
    "        print (f'Document: {documents_df.iloc[ix][\"documents\"]}')\n",
    "        print (f'{matrix} : {similarity_matrix[doc_id][ix]}')\n",
    "\n",
    "most_similar(0,pairwise_similarities,'Cosine Similarity')\n",
    "most_similar(0,pairwise_differences,'Euclidean Distance')             "
   ]
  },
  {
   "cell_type": "code",
   "execution_count": 10,
   "id": "9b4736ff-6d36-4ffb-a0a9-6ce6907777e8",
   "metadata": {
    "execution": {
     "iopub.execute_input": "2023-08-29T21:03:11.835000Z",
     "iopub.status.busy": "2023-08-29T21:03:11.834618Z",
     "iopub.status.idle": "2023-08-29T21:03:11.839456Z",
     "shell.execute_reply": "2023-08-29T21:03:11.838875Z",
     "shell.execute_reply.started": "2023-08-29T21:03:11.834977Z"
    },
    "tags": []
   },
   "outputs": [
    {
     "name": "stdout",
     "output_type": "stream",
     "text": [
      "Document: Machine learning is the study of computer algorithms that improve automatically through experience.Machine learning algorithms build a mathematical model based on sample data, known as training data.The discipline of machine learning employs various approaches to teach computers to accomplish tasks where no fully satisfactory algorithm is available.\n",
      "\n",
      "\n",
      "Similar Documents:\n",
      "\n",
      "\n",
      "Document: Machine learning is closely related to computational statistics, which focuses on making predictions using computers.The study of mathematical optimization delivers methods, theory and application domains to the field of machine learning.\n",
      "Cosine Similarity : 0.22860560787391593\n",
      "\n",
      "\n",
      "Document: Machine learning involves computers discovering how they can perform tasks without being explicitly programmed to do so. It involves computers learning from data provided so that they carry out certain tasks.\n",
      "Cosine Similarity : 0.22581304743529423\n",
      "\n",
      "\n",
      "Document: Machine learning approaches are traditionally divided into three broad categories, depending on the nature of the \"signal\"or \"feedback\" available to the learning system: Supervised, Unsupervised and Reinforcement\n",
      "Cosine Similarity : 0.15314340308039842\n",
      "\n",
      "\n",
      "Document: A software engineer creates programs based on logic for the computer to execute. A software engineer has to be more concernedabout the correctness of the program in all the cases. Meanwhile, a data scientist is comfortable with uncertainty and variability.Developing a machine learning application is more iterative and explorative process than software engineering.\n",
      "Cosine Similarity : 0.12407396777398046\n",
      "\n",
      "\n",
      "Document: Software engineering is the systematic application of engineering approaches to the development of software.Software engineering is a computing discipline.\n",
      "Cosine Similarity : 0.04978528121489196\n"
     ]
    }
   ],
   "source": [
    "# documents similar to the first document in the corpus\n",
    "most_similar(0,pairwise_similarities,'Cosine Similarity')"
   ]
  },
  {
   "cell_type": "code",
   "execution_count": null,
   "id": "d0c6963c-feff-43b6-860a-20676b22918e",
   "metadata": {},
   "outputs": [],
   "source": []
  },
  {
   "cell_type": "code",
   "execution_count": null,
   "id": "0ce0f990-5075-4db5-a51e-809f4f5e2589",
   "metadata": {},
   "outputs": [],
   "source": []
  },
  {
   "cell_type": "code",
   "execution_count": 12,
   "id": "55a89e8e-097f-4971-9d1c-68ab2c347299",
   "metadata": {
    "execution": {
     "iopub.execute_input": "2023-08-29T21:05:38.465885Z",
     "iopub.status.busy": "2023-08-29T21:05:38.465506Z",
     "iopub.status.idle": "2023-08-29T21:05:47.201584Z",
     "shell.execute_reply": "2023-08-29T21:05:47.200813Z",
     "shell.execute_reply.started": "2023-08-29T21:05:38.465861Z"
    },
    "tags": []
   },
   "outputs": [
    {
     "name": "stdout",
     "output_type": "stream",
     "text": [
      "Collecting sentence-transformers\n",
      "  Using cached sentence_transformers-2.2.2-py3-none-any.whl\n",
      "Collecting transformers<5.0.0,>=4.6.0 (from sentence-transformers)\n",
      "  Obtaining dependency information for transformers<5.0.0,>=4.6.0 from https://files.pythonhosted.org/packages/83/8d/f65f8138365462ace54458a9e164f4b28ce1141361970190eef36bdef986/transformers-4.32.1-py3-none-any.whl.metadata\n",
      "  Using cached transformers-4.32.1-py3-none-any.whl.metadata (118 kB)\n",
      "Requirement already satisfied: tqdm in /opt/saturncloud/envs/saturn/lib/python3.9/site-packages (from sentence-transformers) (4.65.0)\n",
      "Requirement already satisfied: torch>=1.6.0 in /opt/saturncloud/envs/saturn/lib/python3.9/site-packages (from sentence-transformers) (1.11.0)\n",
      "Requirement already satisfied: torchvision in /opt/saturncloud/envs/saturn/lib/python3.9/site-packages (from sentence-transformers) (0.12.0)\n",
      "Requirement already satisfied: numpy in /opt/saturncloud/envs/saturn/lib/python3.9/site-packages (from sentence-transformers) (1.21.6)\n",
      "Requirement already satisfied: scikit-learn in /opt/saturncloud/envs/saturn/lib/python3.9/site-packages (from sentence-transformers) (1.3.0)\n",
      "Requirement already satisfied: scipy in /opt/saturncloud/envs/saturn/lib/python3.9/site-packages (from sentence-transformers) (1.11.1)\n",
      "Requirement already satisfied: nltk in /opt/saturncloud/envs/saturn/lib/python3.9/site-packages (from sentence-transformers) (3.8.1)\n",
      "Collecting sentencepiece (from sentence-transformers)\n",
      "  Using cached sentencepiece-0.1.99-cp39-cp39-manylinux_2_17_x86_64.manylinux2014_x86_64.whl (1.3 MB)\n",
      "Collecting huggingface-hub>=0.4.0 (from sentence-transformers)\n",
      "  Obtaining dependency information for huggingface-hub>=0.4.0 from https://files.pythonhosted.org/packages/7f/c4/adcbe9a696c135578cabcbdd7331332daad4d49b7c43688bc2d36b3a47d2/huggingface_hub-0.16.4-py3-none-any.whl.metadata\n",
      "  Using cached huggingface_hub-0.16.4-py3-none-any.whl.metadata (12 kB)\n",
      "Collecting filelock (from huggingface-hub>=0.4.0->sentence-transformers)\n",
      "  Obtaining dependency information for filelock from https://files.pythonhosted.org/packages/52/90/45223db4e1df30ff14e8aebf9a1bf0222da2e7b49e53692c968f36817812/filelock-3.12.3-py3-none-any.whl.metadata\n",
      "  Using cached filelock-3.12.3-py3-none-any.whl.metadata (2.7 kB)\n",
      "Requirement already satisfied: fsspec in /opt/saturncloud/envs/saturn/lib/python3.9/site-packages (from huggingface-hub>=0.4.0->sentence-transformers) (2022.3.0)\n",
      "Requirement already satisfied: requests in /opt/saturncloud/envs/saturn/lib/python3.9/site-packages (from huggingface-hub>=0.4.0->sentence-transformers) (2.31.0)\n",
      "Requirement already satisfied: pyyaml>=5.1 in /opt/saturncloud/envs/saturn/lib/python3.9/site-packages (from huggingface-hub>=0.4.0->sentence-transformers) (6.0)\n",
      "Requirement already satisfied: typing-extensions>=3.7.4.3 in /opt/saturncloud/envs/saturn/lib/python3.9/site-packages (from huggingface-hub>=0.4.0->sentence-transformers) (4.7.1)\n",
      "Requirement already satisfied: packaging>=20.9 in /opt/saturncloud/envs/saturn/lib/python3.9/site-packages (from huggingface-hub>=0.4.0->sentence-transformers) (23.1)\n",
      "Requirement already satisfied: regex!=2019.12.17 in /opt/saturncloud/envs/saturn/lib/python3.9/site-packages (from transformers<5.0.0,>=4.6.0->sentence-transformers) (2023.8.8)\n",
      "Collecting tokenizers!=0.11.3,<0.14,>=0.11.1 (from transformers<5.0.0,>=4.6.0->sentence-transformers)\n",
      "  Using cached tokenizers-0.13.3-cp39-cp39-manylinux_2_17_x86_64.manylinux2014_x86_64.whl (7.8 MB)\n",
      "Collecting safetensors>=0.3.1 (from transformers<5.0.0,>=4.6.0->sentence-transformers)\n",
      "  Obtaining dependency information for safetensors>=0.3.1 from https://files.pythonhosted.org/packages/4c/49/d41e7f524bff04e51ebe560ecedb28127d8f4e424f9d250c106c3b7fb637/safetensors-0.3.3-cp39-cp39-manylinux_2_17_x86_64.manylinux2014_x86_64.whl.metadata\n",
      "  Using cached safetensors-0.3.3-cp39-cp39-manylinux_2_17_x86_64.manylinux2014_x86_64.whl.metadata (4.7 kB)\n",
      "Requirement already satisfied: click in /opt/saturncloud/envs/saturn/lib/python3.9/site-packages (from nltk->sentence-transformers) (8.0.4)\n",
      "Requirement already satisfied: joblib in /opt/saturncloud/envs/saturn/lib/python3.9/site-packages (from nltk->sentence-transformers) (1.3.0)\n",
      "Requirement already satisfied: threadpoolctl>=2.0.0 in /opt/saturncloud/envs/saturn/lib/python3.9/site-packages (from scikit-learn->sentence-transformers) (3.2.0)\n",
      "Requirement already satisfied: pillow!=8.3.*,>=5.3.0 in /opt/saturncloud/envs/saturn/lib/python3.9/site-packages (from torchvision->sentence-transformers) (9.1.1)\n",
      "Requirement already satisfied: charset-normalizer<4,>=2 in /opt/saturncloud/envs/saturn/lib/python3.9/site-packages (from requests->huggingface-hub>=0.4.0->sentence-transformers) (2.0.12)\n",
      "Requirement already satisfied: idna<4,>=2.5 in /opt/saturncloud/envs/saturn/lib/python3.9/site-packages (from requests->huggingface-hub>=0.4.0->sentence-transformers) (3.4)\n",
      "Requirement already satisfied: urllib3<3,>=1.21.1 in /opt/saturncloud/envs/saturn/lib/python3.9/site-packages (from requests->huggingface-hub>=0.4.0->sentence-transformers) (1.26.15)\n",
      "Requirement already satisfied: certifi>=2017.4.17 in /opt/saturncloud/envs/saturn/lib/python3.9/site-packages (from requests->huggingface-hub>=0.4.0->sentence-transformers) (2023.7.22)\n",
      "Using cached huggingface_hub-0.16.4-py3-none-any.whl (268 kB)\n",
      "Using cached transformers-4.32.1-py3-none-any.whl (7.5 MB)\n",
      "Using cached safetensors-0.3.3-cp39-cp39-manylinux_2_17_x86_64.manylinux2014_x86_64.whl (1.3 MB)\n",
      "Using cached filelock-3.12.3-py3-none-any.whl (11 kB)\n",
      "Installing collected packages: tokenizers, sentencepiece, safetensors, filelock, huggingface-hub, transformers, sentence-transformers\n",
      "Successfully installed filelock-3.12.3 huggingface-hub-0.16.4 safetensors-0.3.3 sentence-transformers-2.2.2 sentencepiece-0.1.99 tokenizers-0.13.3 transformers-4.32.1\n"
     ]
    }
   ],
   "source": [
    "!pip install sentence-transformers"
   ]
  },
  {
   "cell_type": "code",
   "execution_count": 13,
   "id": "12460efc-2263-4e91-b456-a19b520e5e9c",
   "metadata": {
    "execution": {
     "iopub.execute_input": "2023-08-29T21:05:58.732054Z",
     "iopub.status.busy": "2023-08-29T21:05:58.731646Z",
     "iopub.status.idle": "2023-08-29T21:06:03.729055Z",
     "shell.execute_reply": "2023-08-29T21:06:03.728344Z",
     "shell.execute_reply.started": "2023-08-29T21:05:58.732026Z"
    },
    "tags": []
   },
   "outputs": [
    {
     "data": {
      "application/vnd.jupyter.widget-view+json": {
       "model_id": "94251286385744b9a47a0e3ecba4ec84",
       "version_major": 2,
       "version_minor": 0
      },
      "text/plain": [
       "Downloading (…)821d1/.gitattributes:   0%|          | 0.00/391 [00:00<?, ?B/s]"
      ]
     },
     "metadata": {},
     "output_type": "display_data"
    },
    {
     "data": {
      "application/vnd.jupyter.widget-view+json": {
       "model_id": "2debcc1787b24285b21198a1a955876c",
       "version_major": 2,
       "version_minor": 0
      },
      "text/plain": [
       "Downloading (…)_Pooling/config.json:   0%|          | 0.00/190 [00:00<?, ?B/s]"
      ]
     },
     "metadata": {},
     "output_type": "display_data"
    },
    {
     "data": {
      "application/vnd.jupyter.widget-view+json": {
       "model_id": "cfa0c7224bc94f1a939c708b6c924bff",
       "version_major": 2,
       "version_minor": 0
      },
      "text/plain": [
       "Downloading (…)8d01e821d1/README.md:   0%|          | 0.00/3.95k [00:00<?, ?B/s]"
      ]
     },
     "metadata": {},
     "output_type": "display_data"
    },
    {
     "data": {
      "application/vnd.jupyter.widget-view+json": {
       "model_id": "429f1b07c2904360a207cf77775ddce2",
       "version_major": 2,
       "version_minor": 0
      },
      "text/plain": [
       "Downloading (…)d1/added_tokens.json:   0%|          | 0.00/2.00 [00:00<?, ?B/s]"
      ]
     },
     "metadata": {},
     "output_type": "display_data"
    },
    {
     "data": {
      "application/vnd.jupyter.widget-view+json": {
       "model_id": "c6393811489548a2a785fd7aa5ea855f",
       "version_major": 2,
       "version_minor": 0
      },
      "text/plain": [
       "Downloading (…)01e821d1/config.json:   0%|          | 0.00/625 [00:00<?, ?B/s]"
      ]
     },
     "metadata": {},
     "output_type": "display_data"
    },
    {
     "data": {
      "application/vnd.jupyter.widget-view+json": {
       "model_id": "394a0e893b0b4746923877788e09712b",
       "version_major": 2,
       "version_minor": 0
      },
      "text/plain": [
       "Downloading (…)ce_transformers.json:   0%|          | 0.00/122 [00:00<?, ?B/s]"
      ]
     },
     "metadata": {},
     "output_type": "display_data"
    },
    {
     "data": {
      "application/vnd.jupyter.widget-view+json": {
       "model_id": "99a16554735440e89f9a92e397d794c8",
       "version_major": 2,
       "version_minor": 0
      },
      "text/plain": [
       "Downloading pytorch_model.bin:   0%|          | 0.00/438M [00:00<?, ?B/s]"
      ]
     },
     "metadata": {},
     "output_type": "display_data"
    },
    {
     "data": {
      "application/vnd.jupyter.widget-view+json": {
       "model_id": "6a7d2705102e4fffb0e40ac408fd4188",
       "version_major": 2,
       "version_minor": 0
      },
      "text/plain": [
       "Downloading (…)nce_bert_config.json:   0%|          | 0.00/53.0 [00:00<?, ?B/s]"
      ]
     },
     "metadata": {},
     "output_type": "display_data"
    },
    {
     "data": {
      "application/vnd.jupyter.widget-view+json": {
       "model_id": "d7869017ef7246e69749d694fd4af324",
       "version_major": 2,
       "version_minor": 0
      },
      "text/plain": [
       "Downloading (…)cial_tokens_map.json:   0%|          | 0.00/112 [00:00<?, ?B/s]"
      ]
     },
     "metadata": {},
     "output_type": "display_data"
    },
    {
     "data": {
      "application/vnd.jupyter.widget-view+json": {
       "model_id": "f48b9fbbb4274990ad2c87b718c5811c",
       "version_major": 2,
       "version_minor": 0
      },
      "text/plain": [
       "Downloading (…)821d1/tokenizer.json:   0%|          | 0.00/466k [00:00<?, ?B/s]"
      ]
     },
     "metadata": {},
     "output_type": "display_data"
    },
    {
     "data": {
      "application/vnd.jupyter.widget-view+json": {
       "model_id": "6603f61d05034144961a73e0adab4174",
       "version_major": 2,
       "version_minor": 0
      },
      "text/plain": [
       "Downloading (…)okenizer_config.json:   0%|          | 0.00/399 [00:00<?, ?B/s]"
      ]
     },
     "metadata": {},
     "output_type": "display_data"
    },
    {
     "data": {
      "application/vnd.jupyter.widget-view+json": {
       "model_id": "889a95175ef344239ae1515db29ed14b",
       "version_major": 2,
       "version_minor": 0
      },
      "text/plain": [
       "Downloading (…)8d01e821d1/vocab.txt:   0%|          | 0.00/232k [00:00<?, ?B/s]"
      ]
     },
     "metadata": {},
     "output_type": "display_data"
    },
    {
     "data": {
      "application/vnd.jupyter.widget-view+json": {
       "model_id": "c7ad132a7e3d4378b0075dc7069ccb5d",
       "version_major": 2,
       "version_minor": 0
      },
      "text/plain": [
       "Downloading (…)1e821d1/modules.json:   0%|          | 0.00/229 [00:00<?, ?B/s]"
      ]
     },
     "metadata": {},
     "output_type": "display_data"
    }
   ],
   "source": [
    "from sentence_transformers import SentenceTransformer\n",
    "sbert_model = SentenceTransformer('bert-base-nli-mean-tokens')\n"
   ]
  },
  {
   "cell_type": "code",
   "execution_count": 14,
   "id": "93e08807-4669-4914-8bb9-60e6362e437f",
   "metadata": {
    "execution": {
     "iopub.execute_input": "2023-08-29T21:09:24.679628Z",
     "iopub.status.busy": "2023-08-29T21:09:24.679215Z",
     "iopub.status.idle": "2023-08-29T21:09:27.838946Z",
     "shell.execute_reply": "2023-08-29T21:09:27.838212Z",
     "shell.execute_reply.started": "2023-08-29T21:09:24.679604Z"
    },
    "tags": []
   },
   "outputs": [],
   "source": [
    "#document_embeddings = sbert_model.encode(documents_df['documents_cleaned'])\n",
    "\n",
    "document_embeddings = sbert_model.encode(documents_df['documents_cleaned'])"
   ]
  },
  {
   "cell_type": "code",
   "execution_count": null,
   "id": "1a027a74-ef09-4eb7-b88c-9df8ca6458ee",
   "metadata": {},
   "outputs": [],
   "source": []
  },
  {
   "cell_type": "code",
   "execution_count": 15,
   "id": "eb916175-a6c9-4952-b85d-6dfb320d781e",
   "metadata": {
    "execution": {
     "iopub.execute_input": "2023-08-29T21:10:51.970943Z",
     "iopub.status.busy": "2023-08-29T21:10:51.970548Z",
     "iopub.status.idle": "2023-08-29T21:10:51.976460Z",
     "shell.execute_reply": "2023-08-29T21:10:51.975684Z",
     "shell.execute_reply.started": "2023-08-29T21:10:51.970919Z"
    },
    "tags": []
   },
   "outputs": [],
   "source": [
    "pairwise_similarities=cosine_similarity(document_embeddings)\n",
    "pairwise_differences=euclidean_distances(document_embeddings)\n"
   ]
  },
  {
   "cell_type": "code",
   "execution_count": 16,
   "id": "c5255eed-6403-496c-9eda-7205b4ca8484",
   "metadata": {
    "execution": {
     "iopub.execute_input": "2023-08-29T21:11:04.898225Z",
     "iopub.status.busy": "2023-08-29T21:11:04.897529Z",
     "iopub.status.idle": "2023-08-29T21:11:04.903507Z",
     "shell.execute_reply": "2023-08-29T21:11:04.902723Z",
     "shell.execute_reply.started": "2023-08-29T21:11:04.898202Z"
    },
    "tags": []
   },
   "outputs": [
    {
     "name": "stdout",
     "output_type": "stream",
     "text": [
      "Document: Machine learning is the study of computer algorithms that improve automatically through experience.Machine learning algorithms build a mathematical model based on sample data, known as training data.The discipline of machine learning employs various approaches to teach computers to accomplish tasks where no fully satisfactory algorithm is available.\n",
      "\n",
      "\n",
      "Similar Documents:\n",
      "\n",
      "\n",
      "Document: Machine learning is closely related to computational statistics, which focuses on making predictions using computers.The study of mathematical optimization delivers methods, theory and application domains to the field of machine learning.\n",
      "Cosine Similarity : 0.8365410566329956\n",
      "\n",
      "\n",
      "Document: A software engineer creates programs based on logic for the computer to execute. A software engineer has to be more concernedabout the correctness of the program in all the cases. Meanwhile, a data scientist is comfortable with uncertainty and variability.Developing a machine learning application is more iterative and explorative process than software engineering.\n",
      "Cosine Similarity : 0.8159456253051758\n",
      "\n",
      "\n",
      "Document: Software engineering is the systematic application of engineering approaches to the development of software.Software engineering is a computing discipline.\n",
      "Cosine Similarity : 0.6589275598526001\n",
      "\n",
      "\n",
      "Document: Machine learning involves computers discovering how they can perform tasks without being explicitly programmed to do so. It involves computers learning from data provided so that they carry out certain tasks.\n",
      "Cosine Similarity : 0.6118106842041016\n",
      "\n",
      "\n",
      "Document: Machine learning approaches are traditionally divided into three broad categories, depending on the nature of the \"signal\"or \"feedback\" available to the learning system: Supervised, Unsupervised and Reinforcement\n",
      "Cosine Similarity : 0.4764779508113861\n",
      "Document: Machine learning is the study of computer algorithms that improve automatically through experience.Machine learning algorithms build a mathematical model based on sample data, known as training data.The discipline of machine learning employs various approaches to teach computers to accomplish tasks where no fully satisfactory algorithm is available.\n",
      "\n",
      "\n",
      "Similar Documents:\n",
      "\n",
      "\n",
      "Document: Machine learning is closely related to computational statistics, which focuses on making predictions using computers.The study of mathematical optimization delivers methods, theory and application domains to the field of machine learning.\n",
      "Euclidean Distance : 9.3604097366333\n",
      "\n",
      "\n",
      "Document: A software engineer creates programs based on logic for the computer to execute. A software engineer has to be more concernedabout the correctness of the program in all the cases. Meanwhile, a data scientist is comfortable with uncertainty and variability.Developing a machine learning application is more iterative and explorative process than software engineering.\n",
      "Euclidean Distance : 9.772483825683594\n",
      "\n",
      "\n",
      "Document: Software engineering is the systematic application of engineering approaches to the development of software.Software engineering is a computing discipline.\n",
      "Euclidean Distance : 13.602810859680176\n",
      "\n",
      "\n",
      "Document: Machine learning involves computers discovering how they can perform tasks without being explicitly programmed to do so. It involves computers learning from data provided so that they carry out certain tasks.\n",
      "Euclidean Distance : 14.060440063476562\n",
      "\n",
      "\n",
      "Document: Machine learning approaches are traditionally divided into three broad categories, depending on the nature of the \"signal\"or \"feedback\" available to the learning system: Supervised, Unsupervised and Reinforcement\n",
      "Euclidean Distance : 16.097082138061523\n"
     ]
    }
   ],
   "source": [
    "most_similar(0,pairwise_similarities,'Cosine Similarity')\n",
    "most_similar(0,pairwise_differences,'Euclidean Distance')"
   ]
  },
  {
   "cell_type": "code",
   "execution_count": null,
   "id": "95cacb59-8450-4339-bc5c-2fff191d2a4f",
   "metadata": {},
   "outputs": [],
   "source": []
  },
  {
   "cell_type": "code",
   "execution_count": null,
   "id": "f8359b45-d6cd-487e-afd2-0b29fa232189",
   "metadata": {},
   "outputs": [],
   "source": []
  },
  {
   "cell_type": "code",
   "execution_count": null,
   "id": "b5af7a42-57fb-4326-ac57-ce218097ffb1",
   "metadata": {},
   "outputs": [],
   "source": []
  }
 ],
 "metadata": {
  "kernelspec": {
   "display_name": "saturn (Python 3)",
   "language": "python",
   "name": "python3"
  },
  "language_info": {
   "codemirror_mode": {
    "name": "ipython",
    "version": 3
   },
   "file_extension": ".py",
   "mimetype": "text/x-python",
   "name": "python",
   "nbconvert_exporter": "python",
   "pygments_lexer": "ipython3",
   "version": "3.9.15"
  }
 },
 "nbformat": 4,
 "nbformat_minor": 5
}
