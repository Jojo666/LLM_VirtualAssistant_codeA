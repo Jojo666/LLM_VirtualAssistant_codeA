{
 "cells": [
  {
   "cell_type": "code",
   "execution_count": 1,
   "id": "c7839c82-e8b8-45d5-a5de-54e72f7f18fb",
   "metadata": {
    "execution": {
     "iopub.execute_input": "2023-08-21T16:28:31.275237Z",
     "iopub.status.busy": "2023-08-21T16:28:31.274885Z",
     "iopub.status.idle": "2023-08-21T16:28:31.281804Z",
     "shell.execute_reply": "2023-08-21T16:28:31.281031Z",
     "shell.execute_reply.started": "2023-08-21T16:28:31.275210Z"
    },
    "tags": []
   },
   "outputs": [],
   "source": [
    "import os"
   ]
  },
  {
   "cell_type": "code",
   "execution_count": 2,
   "id": "6734ae11-6c14-42ad-a4bb-7d74b7476162",
   "metadata": {
    "execution": {
     "iopub.execute_input": "2023-08-21T16:28:36.162457Z",
     "iopub.status.busy": "2023-08-21T16:28:36.162089Z",
     "iopub.status.idle": "2023-08-21T16:28:39.058109Z",
     "shell.execute_reply": "2023-08-21T16:28:39.057297Z",
     "shell.execute_reply.started": "2023-08-21T16:28:36.162431Z"
    },
    "tags": []
   },
   "outputs": [
    {
     "name": "stdout",
     "output_type": "stream",
     "text": [
      "Collecting PyPDF2\n",
      "  Using cached pypdf2-3.0.1-py3-none-any.whl (232 kB)\n",
      "Requirement already satisfied: typing_extensions>=3.10.0.0 in /opt/saturncloud/envs/saturn/lib/python3.9/site-packages (from PyPDF2) (4.7.1)\n",
      "Installing collected packages: PyPDF2\n",
      "Successfully installed PyPDF2-3.0.1\n"
     ]
    }
   ],
   "source": [
    "!pip install PyPDF2"
   ]
  },
  {
   "cell_type": "code",
   "execution_count": 3,
   "id": "8f1aa464-160a-4be1-8ec6-2def412e9b18",
   "metadata": {
    "execution": {
     "iopub.execute_input": "2023-08-21T16:29:19.409382Z",
     "iopub.status.busy": "2023-08-21T16:29:19.408584Z",
     "iopub.status.idle": "2023-08-21T16:29:19.441427Z",
     "shell.execute_reply": "2023-08-21T16:29:19.440880Z",
     "shell.execute_reply.started": "2023-08-21T16:29:19.409348Z"
    },
    "tags": []
   },
   "outputs": [],
   "source": [
    "from PyPDF2 import PdfReader"
   ]
  },
  {
   "cell_type": "code",
   "execution_count": 7,
   "id": "87f8e88f-3975-43ba-933b-9546262aeed7",
   "metadata": {
    "execution": {
     "iopub.execute_input": "2023-08-21T16:30:36.125331Z",
     "iopub.status.busy": "2023-08-21T16:30:36.124963Z",
     "iopub.status.idle": "2023-08-21T16:30:36.128996Z",
     "shell.execute_reply": "2023-08-21T16:30:36.128203Z",
     "shell.execute_reply.started": "2023-08-21T16:30:36.125303Z"
    },
    "tags": []
   },
   "outputs": [],
   "source": [
    "pdf_dir='/home/jovyan/workspace/MangrovePDFs'"
   ]
  },
  {
   "cell_type": "code",
   "execution_count": 4,
   "id": "34a03146-b568-4d69-acfa-eddc74706670",
   "metadata": {
    "execution": {
     "iopub.execute_input": "2023-08-21T16:30:04.464352Z",
     "iopub.status.busy": "2023-08-21T16:30:04.463978Z",
     "iopub.status.idle": "2023-08-21T16:30:06.296923Z",
     "shell.execute_reply": "2023-08-21T16:30:06.296302Z",
     "shell.execute_reply.started": "2023-08-21T16:30:04.464328Z"
    },
    "tags": []
   },
   "outputs": [],
   "source": [
    "import os\n",
    "import pandas as pd\n",
    "from PyPDF2 import PdfReader"
   ]
  },
  {
   "cell_type": "code",
   "execution_count": 5,
   "id": "70992a50-dcf2-4a49-ba50-5f735a5979e3",
   "metadata": {
    "execution": {
     "iopub.execute_input": "2023-08-21T16:30:09.985415Z",
     "iopub.status.busy": "2023-08-21T16:30:09.984962Z",
     "iopub.status.idle": "2023-08-21T16:30:09.988970Z",
     "shell.execute_reply": "2023-08-21T16:30:09.988142Z",
     "shell.execute_reply.started": "2023-08-21T16:30:09.985388Z"
    },
    "tags": []
   },
   "outputs": [],
   "source": [
    "pdf_text_data = [] # Initialize the list to store PDF text data"
   ]
  },
  {
   "cell_type": "code",
   "execution_count": 8,
   "id": "255115c8-8f52-4cc0-a2e0-89a00cc0b29d",
   "metadata": {
    "execution": {
     "iopub.execute_input": "2023-08-21T16:30:41.001944Z",
     "iopub.status.busy": "2023-08-21T16:30:41.001567Z",
     "iopub.status.idle": "2023-08-21T16:31:01.132476Z",
     "shell.execute_reply": "2023-08-21T16:31:01.131857Z",
     "shell.execute_reply.started": "2023-08-21T16:30:41.001920Z"
    },
    "tags": []
   },
   "outputs": [],
   "source": [
    "for filename in os.listdir(pdf_dir):\n",
    "    if filename.endswith('.pdf'):\n",
    "        file_path = os.path.join(pdf_dir, filename)\n",
    "        with open(file_path, 'rb') as file:\n",
    "            pdf = PdfReader(file)\n",
    "            text = \"\"\n",
    "            for page_num in range(len(pdf.pages)):\n",
    "                page = pdf.pages[page_num]\n",
    "                text += page.extract_text()\n",
    "            pdf_text_data.append({'Filename': filename, 'Text': text})"
   ]
  },
  {
   "cell_type": "code",
   "execution_count": 9,
   "id": "b8e62c7a-187f-4502-8f88-cf02caf1768e",
   "metadata": {
    "execution": {
     "iopub.execute_input": "2023-08-21T16:31:38.527394Z",
     "iopub.status.busy": "2023-08-21T16:31:38.527023Z",
     "iopub.status.idle": "2023-08-21T16:31:58.821895Z",
     "shell.execute_reply": "2023-08-21T16:31:58.821268Z",
     "shell.execute_reply.started": "2023-08-21T16:31:38.527371Z"
    },
    "tags": []
   },
   "outputs": [],
   "source": [
    "pdf_text_data = []  # Initialize the list to store PDF text data\n",
    "\n",
    "for filename in os.listdir(pdf_dir):\n",
    "    if filename.endswith('.pdf'):\n",
    "        file_path = os.path.join(pdf_dir, filename)\n",
    "        try:\n",
    "            with open(file_path, 'rb') as file:\n",
    "                pdf = PdfReader(file)\n",
    "                text = \"\"\n",
    "                for page_num in range(len(pdf.pages)):\n",
    "                    page = pdf.pages[page_num]\n",
    "                    text += page.extract_text()\n",
    "                pdf_text_data.append({'Filename': filename, 'Text': text})\n",
    "        except Exception as e:\n",
    "            print(f\"Error processing {filename}: {e}\")\n",
    "            continue"
   ]
  },
  {
   "cell_type": "code",
   "execution_count": null,
   "id": "c0bc1905-c012-4518-9292-cc64e4214b83",
   "metadata": {},
   "outputs": [],
   "source": []
  },
  {
   "cell_type": "code",
   "execution_count": 26,
   "id": "35841d58-48c8-4c7d-98ae-05cb92c193ee",
   "metadata": {
    "execution": {
     "iopub.execute_input": "2023-08-17T22:14:47.066141Z",
     "iopub.status.busy": "2023-08-17T22:14:47.065771Z",
     "iopub.status.idle": "2023-08-17T22:14:47.070437Z",
     "shell.execute_reply": "2023-08-17T22:14:47.069795Z",
     "shell.execute_reply.started": "2023-08-17T22:14:47.066117Z"
    },
    "tags": []
   },
   "outputs": [],
   "source": [
    "for filename in os.listdir(pdf_dir):\n",
    "    if filename.endswith('.pdf'):\n",
    "      pdf_file = open(os.path.join(pdf_dir, filename), 'rb')"
   ]
  },
  {
   "cell_type": "code",
   "execution_count": 27,
   "id": "de9e9328-54db-4f6c-88b1-9a20dd53e4e1",
   "metadata": {
    "execution": {
     "iopub.execute_input": "2023-08-17T22:14:52.193712Z",
     "iopub.status.busy": "2023-08-17T22:14:52.193324Z",
     "iopub.status.idle": "2023-08-17T22:14:52.614755Z",
     "shell.execute_reply": "2023-08-17T22:14:52.614028Z",
     "shell.execute_reply.started": "2023-08-17T22:14:52.193689Z"
    },
    "tags": []
   },
   "outputs": [],
   "source": [
    "pdf_reader = PdfReader(pdf_file)\n",
    "text = ''\n",
    "\n",
    "for i in range(len(pdf_reader.pages)):\n",
    "    page = pdf_reader.pages[i]\n",
    "    text += page.extract_text()"
   ]
  },
  {
   "cell_type": "code",
   "execution_count": 12,
   "id": "38487103-4b9a-4af9-aafb-4d558fe489b0",
   "metadata": {
    "execution": {
     "iopub.execute_input": "2023-08-21T16:32:45.193365Z",
     "iopub.status.busy": "2023-08-21T16:32:45.192977Z",
     "iopub.status.idle": "2023-08-21T16:32:45.201830Z",
     "shell.execute_reply": "2023-08-21T16:32:45.200901Z",
     "shell.execute_reply.started": "2023-08-21T16:32:45.193339Z"
    },
    "tags": []
   },
   "outputs": [
    {
     "data": {
      "text/plain": [
       "'LETTER • OPEN ACCESS\\nA global predictive model of carbon in mangrove\\nsoils\\nTo cite this article: Sunny L Jardine and Juha V Siikamäki 2014 Environ. Res. Lett.  9 104013 \\n\\xa0\\nView the article online  for updates and enhancements. You may also like \\nA global map of mangrove forest soil \\ncarbon at 30 m spatial resolution \\nJonathan Sanderman, Tomislav Hengl, \\nGreg Fiske et al. -\\nSoil greenhouse gas emissions reduce the \\ncontribution of mangrove plants to the \\natmospheric cooling effect \\nGuangcheng Chen, Bin Chen, Dan Yu et \\nal.-\\nCarbon stocks and fluxes in Asia-Pacific \\nmangroves: current knowledge and gaps \\nSahadev Sharma, Raghab Ray, \\nChristopher Martius et al. -\\nThis content was downloaded from IP address 81.78.175.219 on 06/08/2023 at 23:26A global predictive model of carbon in\\nmangrove soils\\nSunny L Jardine1and Juha V Siikamäki2\\n1University of Delaware, School of Marine Science and Policy, 308 Robinson Hall, Newark, DE\\n19716, USA\\n2Resources for the Future, 1616 P Street NW, Washington, DC 20036, USA\\nE-mail: jardine@udel.edu\\nReceived 16 June 2014, revised 8 September 2014\\nAccepted for publication 10 September 2014\\nPublished 14 October 2014\\nAbstract\\nMangroves are among the most threatened and rapidly vanishing natural environments worldwide.\\nThey provide a wide range of ecosystem services and have recently become known for theirexceptional capacity to store carbon. Research shows that mangrove conservation may be a low-cost means of reducing CO\\n2emissions. Accordingly, there is growing interest in developing\\nmarket mechanisms to credit mangrove conservation projects for associated CO 2emissions\\nreductions. These efforts depend on robust and readily applicable, but currently unavailable,localized estimates of soil carbon. Here, we use over 900 soil carbon measurements, collected in 28countries by 61 independent studies, to develop a global predictive model for mangrove soil\\ncarbon. Using climatological and locational data as predictors, we explore several predictive\\nmodeling alternatives, including machine-learning methods. With our predictive model, weconstruct a global dataset of estimated soil carbon concentrations and stocks on a high-resolutiongrid (5 arc min). We estimate that the global mangrove soil carbon stock is 5.00 ± 0.94 Pg C(assuming a 1 meter soil depth) and ﬁnd this stock is highly variable over space. The amount of\\ncarbon per hectare in the world ’s most carbon-rich mangroves (approximately 703 ± 38 Mg C ha\\n−1)\\nis roughly a 2.6 ± 0.14 times the amount of carbon per hectare in the world ’s most carbon-poor\\nmangroves (approximately 272 ± 49 Mg C ha−1). Considerable within country variation in\\nmangrove soil carbon also exists. In Indonesia, the country with the largest mangrove soil carbon\\nstock, we estimate that the most carbon-rich mangroves contain 1.5 ± 0.12 times as much carbonper hectare as the most carbon-poor mangroves. Our results can aid in evaluating bene ﬁts from\\nmangrove conservation and designing mangrove conservation policy. Additionally, the results canbe used to project changes in mangrove soil carbon stocks based on changing climatologicalpredictors, e.g. to assess the impacts of climate change on mangrove soil carbon stocks.\\nSOnline supplementary data available from stacks.iop.org/ERL/9/104013/mmedia\\nKeywords: mangroves, blue carbon, REDD, soil carbon, ecosystem services, predictive\\nmodeling\\n1. Introduction\\nMangroves have long been recognized for the broad range of\\necosystem services they provide, including serving as primarynursery habitat for many species of ﬁs h ,c r u s t a c e a n s ,b i r d s ,a n d\\nmarine mammals, and protecting coastal communities from\\ncoastal erosion and damage from storms and other natural\\nhazards (Mumby et al 2004 ,S p a l d i n g et al 2010 ,T w i l l e y\\net al 1996 , Shepard et al 2011 ). More recently, mangroves\\nhave also received attention for their capacity to store large\\nv o l u m e so fc a r b o n( D o n a t o et al 2011 , Pendleton et al 2012 ,\\nSiikamäki et al 2012 ) .F o re x a m p l e ,o na v e r a g e ,m a n g r o v e s\\ncontain three to four times the mass of carbon typically foundEnvironmental Research Letters\\nEnviron. Res. Lett. 9(2014) 104013 (9pp) doi:10.1088/1748-9326/9/10/104013\\nContent from this work may be used under the terms of the\\nCreative Commons Attribution 3.0 licence . Any further\\ndistribution of this work must maintain attribution to the author(s) and thetitle of the work, journal citation and DOI.\\n1748-9326/14/104013+09$33.00 © 2014 IOP Publishing Ltd 1in boreal, temperate, or upland tropical forests (Donato\\net al 2011 ). Much of this carbon storage, however, is at risk of\\nbeing lost, because mangroves are among the most threatedand rapidly vanishing ecosystems globally, with habitat lossrates similar or greater to those in tropical forests (UN Foodand Agricultural Organization 2007 ,V a l i e l a et al 2001 ).\\nRecent studies point to mangrove conservation as a\\npotentially low-cost option for reducing CO\\n2emissions\\n(Pendleton et al 2012 , Siikamäki et al 2012 ). For example,\\nSiikamäki et al (2012 )ﬁnd that in most mangrove areas of the\\nworld, protecting mangroves achieves emissions reductions ata lower cost than reducing emissions elsewhere in the econ-omy. Accordingly, there is growing interest in developing andimplementing market-based mechanisms such as carbon off-\\nsets, to credit mangrove conservation for associated emissions\\nreductions, using a framework similar to the REDD (reducedemissions from deforestation and degradation) programsdesigned to protect tropical forests. The purpose of theseprograms is to provide market incentives to reduce emissionsfrom deforestation by, for example, encouraging developingcountries to reduce deforestation in return for compensationfrom developed countries committed to emission reductions\\n(Angelsen 2008 , Kindermann et al 2008 ).\\nDesigning and evaluating market mechanisms for man-\\ngrove conservation requires several spatially explicit scienti ﬁc\\ninputs, including information on the mangrove area susceptibleto deforestation, carbon in mangrove biomass and soils, annualcarbon sequestration, the emissions pro ﬁles of mangroves\\nconverted to other uses, and the opportunity cost of protectingmangroves (Siikamäki et al 2013 ). A growing number of\\nresearchers have recognized the need for more and better sci-\\nence and are calling for continued research on the potential toinclude mangrove conservation in climate change policy (e.g.Mcleod et al2011 , Pendleton et al2012 , Siikamäki et al2013 ).\\nA key challenge in assessing the carbon bene ﬁts from\\nmangrove conservation is the lack of rigorous spatial estimatesof mangrove soil carbon stocks. Unlike other tropical forests,for which the bulk of carbon storage is in biomass, mangrove\\ncarbon is primarily stored in the soil. For example, Donato et al\\n(2011 ) estimate that soil carbon comprises 49 –98% of carbon\\nin mangrove forests. Siikamäki et al (2012 ) developed the ﬁrst\\nspatial estimates of global mangrove soil carbon, using countryand regional level mean estimates of soil carbon concentrationsderived from the literature. While this provides an importantﬁrst step, the estimates do not capture the ﬁne-scale variation in\\nmangrove soil carbon concentrations and, therefore, the ﬁne-\\nscale variation in potential bene ﬁts from mangrove conserva-\\ntion in different locations.\\nWe address this data gap by developing a predictive\\nmodel of mangrove soil carbon to estimate global mangrovesoil carbon concentrations (mg C cm\\n−3) and stocks (Pg C) on\\na high-resolution grid (5 arc min). Our predictive model isbased on soil carbon measurements compiled in the meta-analyses by Chmura et al (2003 ), Kristensen et al (2008 ), and\\nDonato et al (2011 ). These three studies combined include\\ndata from over 900 samples collected in 28 countries, whichcontain 64.4% of global mangroves. We explore severalprediction methods, including machine-learning algorithms,to assess the generalizability and predictive performance of\\nalternative model speci ﬁcations.\\nOurﬁndings contribute to the science needed to accurately\\nquantify the bene ﬁts from emissions reductions achieved with\\nmangrove conservation. Combining results from our predictivemodel with information on the spatial distribution of above-\\nground biomass (e.g. Hutchison et al 2013 ) enables improved\\nestimation of the magnitude and spatial distribution of man-grove carbon storage, thereby aiding the design and evaluationof mangrove conservation projects. Additionally, because weﬁnd that climatological factors are important predictors of\\nmangrove soil carbon concentrations, our predictive model canbe helpful in assessing the impacts of climate change onmangrove carbon storage.\\n2. Methods\\n2.1. Data\\nWe use mangrove soil carbon measurements from meta-\\nanalyses by Chmura et al (2003 ), Kristensen et al (2008 ), and\\nDonato et al (2011 ). Combining data from these sources, after\\nremoving observations where the study location is notdocumented, yields a total of 932 samples that were collectedin 28 countries by 61 independent studies. The locations ofthe soil carbon samples are shown in ﬁgure 1.\\nObservations included in Chmura et al (2003 ) and\\nDonato et al (2011 ) are measurements of the soil carbon bulk\\ndensity, while Kristensen et al (2008 ) record the per cent\\norganic carbon (POC) of each soil sample. To combine theobservations, we convert POC measurements into bulk den-sity measurements following Donato et al (2011 ) with the\\nestimated relationship:\\n=−poc 3.0443bd , (1)1.313\\nwhere poc is the per cent weight of organic carbon in the soiland bd is the soil bulk density measured in grams per cubic\\ncentimeter. We then use the soil bulk density to calculate the\\nsoil carbon content in g C per cubic centimeter.\\nWe combine the soil carbon dataset with information on\\nseveral predictor variables that explain the carbon con-centration in mangrove soils, including the distance of theobservation ’s sampling location from the equator (the abso-\\nlute value of latitude coordinates to a 0.1 of a degree), severalvariables describing climate conditions at the sampling loca-\\ntions, and regional indicators. The data are available in the\\nonline supplementary materials at stacks.iop.org/ERL/9/\\n104013/mmedia .\\nFor the majority of the soil carbon data (76% of the\\nobservations), source studies report precise locational data,i.e. latitude coordinates reported to the 0.1 of a degree, whichwe are able to use directly. In some instances (9% of theobservations), a group of soil carbon samples were taken from\\nneighboring sites and only the boundary latitude and long-\\nitude coordinates are provided. In these cases we use themean latitude coordinate value for each of the soil carbonestimates in that study. In studies where only imprecise\\n2Environ. Res. Lett. 9(2014) 104013 S L Jardine and J V Siikamäkilocational data were provided, but a detailed map of the\\nsample location was included (13% of the observations), wemanually obtain a more precise location. Finally, wherelocational data were reported in the meta-analysis but could\\nnot be veri ﬁed (e.g. unpublished data), we use the locational\\ndata reported in the meta-analysis (2% of the observations).The latitude data are used to calculate distance from the\\nequator, which has been linked to mangrove productivity\\n(Twilley et al 1992 ), and therefore may be an important\\npredictor of mangrove soil carbon, a hypothesis which we testin our analysis.\\nClimate variables are from the WorldClim Bioclim data\\n(Hijmans et al 2005 ). Of the 19 variables included in the\\nBioclim data, we use mean annual temperature (Bioclim 1),mean temperature in the coldest quarter (Bioclim 11), total\\nannual precipitation (Bioclim 12), and seasonality in pre-\\ncipitation (Bioclim 15). Our choice of climate variables ismotivated by a large body of literature linking mangroveproductivity with temperature and precipitation (Ellison 2003 ,\\nField 1995 , McKee 1993 ) and extreme cold events (Cava-\\nnaugh et al 2013 , Snedaker 1995 , Woodroffe and Grin-\\ndrod 1991 ), implying that these climate variables should be\\nincluded in our model.\\nFinally, we include regional indicators, where regions are\\ndeﬁned according to the ten biogeographic regions for man-\\ngroves developed by Spalding et al (2010 ) (see the SI for\\ncountries represented in the data from each region). Our\\ngeographic predictors (distance from the equator and regional\\nindicators) control for the impacts of unobserved factors onthe carbon concentration in mangrove soils, to the extent towhich the unobserved factors vary over space. For example,\\nmangrove soil carbon has been linked to allochthonous riv-\\nerine or marine material, allochthonous production of algae,and phytoplankton (Bouillon et al 2003 , Kennedy et al 2004 ,\\nMarchand et al 2003 ) and tidal forcing (Kristensen et al 2008 )\\namong other things, all of which are unobserved but likely\\nvary systematically over space. Additionally, becausemangrove species are more homogeneous within mangrove\\nbioregions (Spalding et al 2010 ), mangrove soil carbon\\nconcentrations may also be more homogeneous within man-grove bioregions, which we control for with regionalindicators.\\n2.2. Predictive models\\nWe develop two classes of statistical models to predict soilcarbon concentrations, including parametric predictive mod-els and models developed with machine learning algorithms.Constructing a robust predictive model requires balancing theability to explain the most variation in the data sample with\\nthe model ’s generalizability, i.e. its ability to predict out of\\nsample (Babyak 2004 ). We evaluate the alternatives models\\nalong these two dimensions.\\n2.3. Parametric prediction\\nWeﬁrst develop a parametric predictive model with regres-\\nsion analysis. Speci ﬁcally, we estimate the following model:\\nαθ β δ ϵ =+ + + + climate sc avlatitude region , (2)ii i i i\\nwhere sciis soil carbon content in sampling location i,\\navlatitudeiis the absolute value of latitude for location i\\n(distance from the equator), climateiis a vector containing all\\nBioclim variables for site iand a squared term for average\\nannual temperature based on evidence of a nonlinear rela-tionship between mangrove soil carbon and temperature (e.g.Gilman 2008), and\\nϵiis an assumed mean-zero normally\\ndistributed random error. We estimate several speci ﬁcations\\nof equation ( 2), where certain parameters or sets of parameters\\nare constrained to equal zero. The model is estimated usingordinary least squares (OLS).\\nWe compare the parametric predictive models based on\\nR-squared statistics, signaling in-sample predictive power,and the Akaike information criterion (AIC), indicating modelgeneralizability as it relates to model simplicity.\\nFigure 1. Locations of soil carbon concentration measurement data from the meta-analyses by Chmura et al (2003 ), Kristensen et al (2008 ),\\nand Donato et al (2011 ).\\n3Environ. Res. Lett. 9(2014) 104013 S L Jardine and J V Siikamäki2.4. Machine learning prediction\\nMachine-learning (ML) algorithms offer an alternative to\\nsingle-equation parametric predictive modeling. They involvesystematic computational learning in the model-buildingprocess, which improves the model ’s the predictive perfor-\\nmance and generalizability by minimizing over ﬁtting. The\\nML methods used here are also ﬂexible in modeling non-\\nlinearities and/or interactions between the predictors. MLalgorithms are especially useful in instances where the func-tional relationship between the outcome variable and thepredictors is unknown, as is the case with mangrove soilcarbon concentrations (Kristensen et al 2008 ). ML methods\\nhave a long history in the ﬁeld of medical biosciences\\n(Kononenko 2001 ) and are rapidly gaining ground in several\\nﬁelds ranging from economics (Varian 2013 ), to conservation\\nbiology and ecology (Gomes 2009 , Dietterich 2009 ).\\nWe examine two ML algorithms as potential alternatives\\nto our parametric predictive model of mangrove soil carbon: aboosted decision tree (DT) model and a bag DT model (seeHastie et al 2009 and Breiman 1996 for a detailed description\\nof the two methods respectively). Both are tree-based meth-\\nods, which are well suited for complex ecological data\\n(De ’ath and Fabricius 2000 ), but the relative performance of\\neach method depends on the dataset (Quinlan 1996 ).\\nInputs to the ML models are identical to those in the\\nparametric model. To compare the two ML algorithms withour parametric model, we test the out-of-sample predictivepower of each model. In the out-of-sample prediction tests,weﬁrst draw 1 000 datasets by taking random samples of 30\\nstudies (and all observations from those studies) from our\\noriginal dataset, without replacement. Next, we estimate themachine learning and parametric predictive models for eachof the 1 000 datasets. Finally, we use the estimated models topredict soil carbon concentrations for observations in theremaining 31 studies for each of the 1 000 datasets and cal-culate prediction errors. The magnitude of prediction errors\\nindicates how sensitive the model is to the studies included in\\nour analysis. All models were ﬁtted in MATLAB (2013)\\nversion 8.1.0.604, using the ﬁtensemble package in the sta-\\ntistics toolbox.3. Results\\n3.1. Parametric prediction\\nRegression results are reported in table 1. We begin with a\\nsimple constant-only model showing that the mean soil car-\\nbon content in our sample is 32.14 mg cm−3(min.\\n13.48 mg cm−3, and max. 115 mg cm−3), or approximately an\\naverage of 321 Mg (tons) C ha−1in the top meter of soil. We\\ngradually add controls to the model and ﬁnd that climatic\\nvariables are signi ﬁcant predictors of mangrove soil carbon as\\nare the regional controls. The regional controls contributesubstantially to the explanatory power of the model. For\\nexample, the R-squared for Model 3 with climatic variables\\nbut no regional controls ( ﬁxed effects) is 0.103, but after\\nadding the regional controls the R-squared is 0.912 (Model\\n4). Adding regional controls also lowers the AIC, suggesting\\nthat over ﬁtting is not driving the increased R-squared statistic.\\nFigure 2(left panel) shows the mean soil carbon by\\nregion, and the 95% con ﬁdence intervals around the means,\\nwith and without controls for climate and distance from the\\nequator. Uncontrolled regional means are obtained by\\nregressing soil carbon concentrations on the full set ofregional indicator variables without any other controls. The\\ndata show that mangroves in North and Central America\\ncontain some of the most carbon-rich soils whereas man-\\ngroves in East Asia are among the most carbon-poor soils.\\nSoils in South East Asia, where a large fraction of the world ’s\\nmangroves are located (approx. 32.8%), have considerably\\ngreater carbon content than mangroves soils in East Asia butsubstantially less carbon content than mangrove soils in North\\nand Central America. However, regional constants are no\\nlonger statistically different from each other after controlling\\nfor climate and latitude (right panel of ﬁgure 2).\\nModel 4, which controls for latitude, climatic conditions,\\nand sample region, outperforms all other parametric predic-tions explored here in terms of attaining the highest R-squared\\nand lowest AIC. Therefore, we select it as our preferred\\nparametric speci ﬁcation and compare it to the two ML\\nmodels.Figure 2. Regional variation in soil carbon. The left panel shows regional means without controls for climate and distance from the equator.\\nThe right panel shows regional means conditional on controls for climate and distance from the equator.\\n4Environ. Res. Lett. 9(2014) 104013 S L Jardine and J V Siikamäki3.2. Machine learning predictions\\nTable 2contains results from our out-of-sample predictive\\ntest, where we compare the performance of our preferredparametric prediction model (Model 4) and two competing\\nML algorithms (the boosted decision tree and the bag decision\\ntree). The average sum of squared errors (SSE) and meanpercentage errors (MPE) for each model are summarized inthe table.The results indicate that both ML methods outperform\\nour preferred parametric predictive model by achieving\\nsmaller average out-of-sample SSE and MPE. The improved\\nability of ML models to predict out of sample suggests thatthey offer distinct advantages in modeling mangrove soilcarbon. Of the two ML methods, the bag DT performs betterthan the boosted DT, so we select it as our preferred ML\\nmodel.\\nCommunicating and further using ML model results can\\nbe challenging, as the model cannot be collapsed into anequation. However, in contrast to parametric models we cancalculate the relative importance of each predictor variable in\\nthe ML model (table 3) to gain insight into which predictors\\nexplain the greatest amount of variation in the data. We ﬁnd\\nthat annual precipitation is the most important predictor,followed by distance from the equator and geographic region.\\nPrecipitation seasonality, mean temperature of the coldest\\nquarter, and annual mean temperature explain less of thevariation in mangrove soil carbon.Table 1. Parametric predictive model regression results.\\nDependent variable is: soil carbon concentration (mg C cm−3)\\nModel 1 Model 2 Model 3 Model 4\\nConstant 32.139** 31.989** −67.819**\\n(0.375) (0.614) (20.722)\\nAV Latitude 0.013 0.379** 0.150(degrees) (0.043) (0.088) (0.102)\\nAverage temperature 7.229** 12.210**\\n(Degrees C) (1.696) (2.111)Average temperature squared −0.168** −0.389**\\n(Degrees C squared) (0.040) (0.054)\\nColdest quarter temperature 1.747** 5.399**(Degrees C) (0.357) (0.783)\\nAnnual precipitation −0.005** −0.006**\\n(Millimeters) (0.001) (0.001)CV Precipitation −0.164** −0.101**\\n(Unitless) (0.022) (0.028)\\nEast Africa −137.311**\\n(Indicator) (24.868)South Asia −126.397**\\n(Indicator) (24.281)\\nSoutheast Asia −132.857**\\n(Indicator) (24.764)\\nEast Asia −122.571**\\n(Indicator) (24.621)Australasia −122.765**\\n(Indicator) (24.275)\\nPaciﬁc Ocean −131.672**\\n(Indicator) (25.086)North and Central America −120.463**\\n(Indicator) (25.229)\\nSouth America −141.921**\\n(Indicator) (25.241)\\nObservations 932 932 932 932\\nR-squared 0.000 0.000 0.103 0.912AIC 7190.905 7192.809 7101.155 6990.568\\nStandard errors in parentheses\\n**P< 0.01, * P< 0.05\\nTable 2. Comparison of OLS and ML models using the out-of-\\nsample sum of squared errors (SSE) and mean percentage error\\n(MPE), on average, from 1 000 random divisions of independent\\nstudies in the data.\\nMethod Average SSE Average MPE\\nOLS (Model 4) 5.69 e05 53.84\\nBoost DT 1.27 e05 36.99\\nBag DT 0.844 e05 32.26\\n5Environ. Res. Lett. 9(2014) 104013 S L Jardine and J V SiikamäkiUsing our ML predictive model along with mangrove\\nland cover data from Giri et al (2011 ), we construct a global\\ndataset (available online from the authors) of estimatedmangrove soil carbon concentrations (mg C cm\\n−3) and stocks\\n(Pg C) on a high-resolution grid (5 arc min). Standard errors\\nfor all of our estimates are calculated from the standarddeviation of predictions from 10 000 ML models constructedfrom 10 000 random samples (bootstrap samples) of our pri-mary soil carbon dataset. Figure 3maps the predicted soil\\ncarbon concentrations for the world ’s mangroves and ﬁgure 4\\nmaps mangrove soil carbon concentrations in Indonesia (andneighboring countries), a country that contains roughly 19.5%\\nof the world ’s mangroves. The ﬁgures illustrate considerable\\nspatial variation in mangrove soil carbon concentrations.\\nTo estimate global carbon stocks we assume a carbon-\\nrich soil depth of 1 meter, as common in the literature (e.g.Donato et al 2011 , Pendleton et al 2012 , Siikamäki\\net al 2012 ). Table 4lists the estimated global and country-\\nlevel stock for the top-20 countries. Globally, we estimate thatmangrove soils contain 5.00 ± 0.94 Pg C and that about 80.5%\\nof the pool is contained in 20 countries, which is roughly\\nproportional to the per cent of the world ’s mangroves these\\ncountries contain (81.3%).\\nOur results document considerable geographic variation\\nin soil carbon. We estimate that global mangrove soils contain369 ± 6.8 Mg C ha\\n−1on average (in the top meter). However,\\nwe estimate that the amount of carbon per hectare in theworld ’s most carbon-rich mangroves (the highest grid cell\\nprediction is 703 ± 38 Mg C ha\\n−1) is roughly 2.6 ± 0.14 times\\nthe amount of carbon per hectare in the world ’s most carbon-\\npoor mangroves (the lowest grid cell prediction is272 ± 49 Mg C ha\\n−1). We also ﬁnd substantial within-country\\nvariation in mangrove soil carbon. For example, in Indonesia,the country with globally the largest mangrove soil carbonstock, we estimate that the most carbon-rich mangrovescontain 1.5 ± 0.12 times as much carbon per hectare as the\\nmost carbon-poor mangroves.\\nWhen examining country averages, we ﬁnd that the\\ncountry with the highest average soil carbon concentrationhas roughly twice the amount of soil carbon, per hectare, asthe country with the lowest estimated soil carbon concentra-\\ntion. Interestingly, none of the top 20 countries, when rankedby soil carbon concentrations, overlap with the 20 countrieswith the largest carbon pools (table 4). In fact, the 20 coun-\\ntries with highest average soil carbon concentrations containonly 1.2% of the world ’s mangroves, but as a consequence of\\ntheir relatively high soil carbon, these countries account for\\n1.5% of global mangrove soil carbon.\\n4. Discussion\\nHere we develop a predictive model and global dataset of soil\\ncarbon concentrations, which documents and provides infor-\\nmation on the spatial distributio n of mangrove soil carbon. Our\\nresults indicate that the variation in soil carbon is systematicallydetermined by several climatic variables but that locationalvariables are also signi ﬁcant predictors of mangrove soil carbon.\\nSome of our results call for added discussion. First,\\nalthough Chmura et al (2003 )ﬁnd that soil carbon decreases\\nwith temperature, in our analysis, which includes and expandsbeyond the data in Chmura et al (2003 ), the (parametric)\\nresults show that, on average, carbon content increases with\\ntemperature, albeit at a decreasing rate. Our results are con-sistent with studies that ﬁnd mangrove productivity increases\\nwith temperature up to a threshold (Ellison 2003 , Field 1995 ).\\nSecond, our ﬁndings are consistent with several studies\\nthatﬁnd that extreme cold events have a signi ﬁcant impact on\\nmangrove productivity (Cavanaugh et al 2013 , Sneda-\\nker1995 , Woodroffe and Grindrod 1991 ). For example, our\\n(parametric) results show that a 1 degree C increase in tem-\\nperature during the coldest quarter leads to an increase of5.4 mg cm\\n−3of soil C, all else constant, or a 16.8% increase\\nrelative to the mean value of mangrove soil carbon con-centrations in our sample.\\nThird, we ﬁnd that ML algorithms perform substantially\\nbetter than simple parametric predictions in predicting out ofsample. Therefore, they may offer substantial gains in accu-\\nrately estimating mangrove soil carbon concentrations based\\non available data. On the other hand, the parametric model isexceedingly practical for predictions and, as such it offers auseful ﬁrst-order approximation.\\nFinally, to obtain the highest-quality predictive model\\ngiven available data, we explored several predictive modelingtechniques and compared their performance along severaldimensions. Nonetheless, as with any predictive model, the\\nquality of the predictions depends on the quality of the\\nunderlying data. For example, if the secondary observationsused in this analysis targeted sampling locations based oncharacteristics that are unobservable to us but correlated withsoil carbon concentrations (e.g. oversampling of pristinemangrove forests), then the underlying data would not berepresentative of the population and any predictive modelwould contain selection bias. The possibility that soil carbon\\nmeasurements oversample pristine mangrove locations is\\nspeculated about in Kristensen et al (2008 ) and Hutchinson\\net al (2013 ). Although there is no actual evidence of sampling\\nbias, it cannot be completely ruled out.Table 3. Predictor importance in the bag DT ML model. The\\nimportance score is calculated as the change in mean squared errordue to splits on each predictor and then dividing the sum by the\\nnumber of branch nodes. The relative importance normalizes the\\nimportance scores by the sum of importance scores over allpredictors.\\nVariable name Variable descriptionRelative\\nimportance\\nBioclim 12 Annual precipitation 0.2092\\nAV Latitude Absolute value of latitude 0.1967\\nRegion Geographical region\\ncategory0.1732\\nBioclim 15 Precipitation seasonality 0.1532\\nBioclim 11 Coldest quarter mean\\ntemperature0.1347\\nBioclim 1 Annual mean temperature 0.1331\\n6Environ. Res. Lett. 9(2014) 104013 S L Jardine and J V Siikamäki5. Conclusions\\nThis analysis adds to the science necessary to design and\\nevaluate mangrove conservation options. We develop a modelto predict mangrove soil carbon, explaining substantial spatialvariation in the carbon concentrations of global mangrove\\nsoils. Our predictive model is based on a rich dataset ofmangrove soil carbon measurements, including over 900observations collected in 28 countries throughout the world,which represent the majority of global mangroves. Using\\nFigure 3. Global map of predicted mangrove soil carbon concentrations.\\nFigure 4. Map of predicted mangrove soil carbon concentrations for Indonesia (and neighboring countries).\\n7Environ. Res. Lett. 9(2014) 104013 S L Jardine and J V Siikamäkithe model predictions, we produce a high-resolution and\\nspatially explicit global dataset of mangrove soil carbon\\nconcentrations. These data can help examine current man-grove conservation projects and direct future mangrove con-\\nservation efforts, thus providing an important scienti ﬁc input\\nto mangrove conservation assessments.\\nBecause mangrove soil concentrations are determined by\\nclimate conditions, our predictive model can also help assess\\nthe impacts of a changing climate on carbon in mangrove soils,\\ni.e. our model can be used to predict changes in mangrove soilcarbon concentrations that result from changing climate con-\\nditions. This will allow for a more complete understanding of\\nthe impacts of climate change on mangroves.\\nMangrove carbon storage varies substantially over space;\\ntherefore, the bene ﬁts from mangrove conservation depend\\ncritically on the location of the mangroves conserved. In\\nprinciple, our results enable the targeting of mangrove con-servation to maximize bene ﬁts from avoided carbon emissions.\\nWe note, however, that a more meaningfully de ﬁned con-\\nservation strategy should consider the full range of bene ﬁts\\nfrom mangrove conservation, not only avoided carbon emis-\\nsions. Moreover, it is not clear ap r i o r i how similar or different\\na more multi-objective targeting strategy would be relative to a\\ncarbon-focused targeting. Although previous research (Sii-\\nkamäki et al 2012 ) suggests that, in general, carbon-focusedmangrove conservation will target areas that are also high in\\nbiodiversity, the relationship between carbon and biodiversitymay vary at a ﬁner spatial scale than has been considered thus\\nfar in the literature. Additionally, it is unclear whether the manyother bene ﬁts, such as shoreline protection or the provision of\\nnursery habitat for ﬁsh, from mangrove conservation are\\nstrongly and positively correlated with the potential for carbon\\noffsets in mangroves. Therefore, to develop a more compre-hensive understanding of mangrove conservation, future workis needed to evaluate the full array of ecosystem services thatmangroves provide. Our results can be an important input intothese future comprehensive assessments.\\nAcknowledgements\\nWe thank Daniel Donato and Erik Kristensen for their\\nassistance with the data. We also thank James Sanchirico forhis support.\\nReferences\\nAngelsen A 2008 Moving Ahead with REDD: Issues, Options and\\nImplications (Bogor, Indonesia: CIFOR)Table 4. Estimated mangrove soil carbon stocks and associated standard errors (Pg C) and carbon concentrations with associated standard\\nerrors (mg C cm−3), by country for the top-20 countries by each measure.\\nCarbon stock Carbon soil concentration\\nRank Country Pg CPer cent of\\nglobal totalCumulative per cent\\nof global total Country mg C cm−3Per cent of\\nglobal average\\n1 Indonesia 1.02 ± 0.03 20.5% 20.5% Somalia 59.5 ± 3.0 160%\\n2 Brazil 0.37 ± 0.02 7.4% 27.9% Eritrea 52.6 ± 3.6 142%3 Australia 0.33 ± 0.02 6.5% 34.4% Nauru 47.5 ± 1.6 128%4 Mexico 0.28 ± 0.01 5.6% 40.0% Turks and Caicos\\nIslands46.9 ± 2.1 126%\\n5 Nigeria 0.23 ± 0.01 4.5% 44.6% Aruba 46.3 ± 2.2 125%\\n6 Malaysia 0.21 ± 0.01 4.2% 48.8% Ecuador 46.2 ± 2.2 124%\\n7 Papua New\\nGuinea0.18 ± 0.01 3.6% 52.4% Martinique 45.8 ± 1.2 123%\\n8 Cuba 0.17 ± 0.01 3.4% 55.8% Peru 45.6 ± 3.6 123%\\n9 Myanmar 0.17 ± 0.01 3.4% 59.2% Netherlands Antilles 44.7 ± 1.9 120%\\n10 Bangladesh 0.14 ± 0.01 2.8% 62.0% Guadeloupe 44.6 ± 1.7 120%11 India 0.13 ± 0.00 2.6% 64.6% Grenada 44.5 ± 1.8 120%12 Mozambique 0.11 ± 0.00 2.2% 66.9% Saint Vincent and the\\nGrenadines44.3 ± 2.0 119%\\n13 Guinea-Bissau 0.11 ± 0.00 2.2% 69.0% Saint Lucia 44.3 ± 2.0 119%\\n14 Madagascar 0.10 ± 0.00 2.0% 71.0% Tonga 43.9 ± 3.8 118%\\n15 Philippines 0.09 ± 0.00 1.9% 72.9% Virgin Islands\\n(British)43.6 ± 1.4 117%\\n16 Thailand 0.08 ± 0.00 1.7% 74.6% Wallis and Futuna\\nIslands43.3 ± 1.8 117%\\n17 Venezuela 0.08 ± 0.00 1.6% 76.2% Antigua and Barbuda 42.8 ± 1.4 115%\\n18 Guinea 0.08 ± 0.00 1.6% 77.8% Maldives 42.6 ± 1.4 115%\\n19 Colombia 0.07 ± 0.00 1.4% 79.2% Saint Kitts and Nevis 42.4 ± 2.2 114%\\n20 Cameroon 0.06 ± 0.00 1.3% 80.5% Trinidad and Tobago 42.4 ± 1.7 114%\\nGlobal total 5.00 ± 0.94 100% 100% Global country\\naverage37.1 ± 0.7 100%\\n8Environ. Res. Lett. 9(2014) 104013 S L Jardine and J V SiikamäkiBabyak M A 2004 What you see may not be what you get: a brief,\\nnontechnical introduction to over ﬁtting in regression-type\\nmodels Psychosomatic Med. 66411 –21\\nBouillon S, Dahdouh-Guebas F, Rao A, Koedam N and Dehairs F\\n2003 Sources of organic carbon in mangrove sediments:variability and possible ecological implications Hydrobiologia\\n49533–9\\nBreiman L 1996 Bagging predictors Mach. Learn. 24123 –40\\nCavanaugh K C, Kellner J R, Forde A J, Gruner D S, Parker J D,\\nRodriguez W and Feller I C 2013 Poleward expansion\\nof mangroves is a threshold response to decreased\\nfrequency of extreme cold events Proc. Natl. Acad. Sci. 111\\n723 –7\\nChmura G L, Anisfeld S C, Cahoon D R and Lynch J C 2003 Global\\ncarbon sequestration in tidal, saline wetland soils Glob.\\nBiogeochem. Cycles 1722\\nDe’ath G and Fabricius K E 2000 Classi ﬁcation and regression trees:\\na powerful yet simple technique for ecological data analysis\\nEcology 813178 –92\\nDietterich T G 2009 Machine learning in ecosystem informatics and\\nsustainability Proc. 21st Int. Joint Conf. on Arti ﬁcial\\nIntelligence (Pasadena, CA 11 –17 July 2009) pp 8 –13\\nDonato D C, Kauffman J B, Murdiyarso D, Kurnianto S,\\nStidham M and Kanninen M 2011 Mangroves among the mostcarbon-rich forests in the tropics Nat. Geosci. 4293 –7\\nEllison J 2003 How South Paci ﬁc mangroves may respond to\\npredicted climate change and sea-level rise Climate Change in\\nthe South Paci ﬁc: Impacts and Responses in Australia, New\\nZealand, and Small Island States (Berlin: Springer)\\npp 289 –300\\nField C 1995 Impact of expected climate change on mangroves Asia-\\nPaciﬁc Symposium on Mangrove Ecosystems (Berlin:\\nSpringer) pp 75 –81\\nGilman E L, Ellison J, Duke N C and Field C 2008 Threats to\\nmangroves from climate change and adaptation options: areview Aquatic Bot. 89237 –250\\nGiri C, Ochieng E, Tieszen L, Zhu Z, Singh A, Loveland T,\\nMasek J and Duke N 2011 Status and distribution of mangroveforests of the world using earth observation satellite data Glob.\\nEcol. Biogeogr. 20\\n154 –9\\nGomes C P 2009 Computational sustainability: computational\\nmethods for a sustainableenvironment, economy, and societyThe Bridge 395–13\\nHastie T, Tibshirani R, Friedman J, Hastie T, Friedman J and\\nTibshirani R 2009 The Elements of Statistical Learning vol 2\\n(New York: Springer)\\nHijmans R J, Cameron S E, Parra J L, Jones P G and Jarvis A 2005\\nVery high resolution interpolated climate surfaces for global\\nland areas Int. J. Climatol. 251965 –78\\nHutchison J, Manica A, Swetnam R, Balmford A and Spalding M\\n2013 Predicting global patterns in mangrove forest biomass\\nConserv. Lett. 7233 –40\\nKennedy H, Gacia E, Kennedy D, Papadimitriou S and Duarte C\\n2004 Organic carbon sources to SE Asian coastal sedimentsEstuarine Coastal Shelf Sci. 6059–68\\nKindermann G, Obersteiner M, Sohngen B, Sathaye J, Andrasko K,\\nRametsteiner E, Schlamadinger B, Wunder S and Beach R2008 Global cost estimates of reducing carbon emissions\\nthrough avoided deforestation Proc. Natl. Acad. Sci. 105\\n10302 –7\\nKononenko I 2001 Machine learning for medical diagnosis:\\nhistory, state of the art and perspective Artif. Intell. Med. 23\\n89–109Kristensen E, Bouillon S, Dittmar T and Marchand C 2008 Organic\\ncarbon dynamics in mangrove ecosystems: a review Aquatic\\nBot. 89201 –19\\nMarchand C, Lallier-Vergès E and Baltzer F 2003 The composition\\nof sedimentary organic matter in relation to the dynamicfeatures of a mangrove-fringed coast in French GuianaEstuarine Coastal Shelf Sci. 56119 –30\\nMcKee K L 1993 Soil physicochemical patterns and mangrove\\nspecies distribution –reciprocal effects? J. Ecol. 81477 –87\\nMcleod E, Chmura G L, Bouillon S, Salm R, Björk M, Duarte C M,\\nLovelock C E, Schlesinger W H and Silliman B R 2011 A\\nblueprint for blue carbon: toward an improved understandingof the role of vegetated coastal habitats in sequestering CO\\n2\\nFront. Ecol. Environ. 9552 –60\\nMumby P J, Edwards A J, Arias-González J E, Lindeman K C,\\nBlackwell P G, Gall A, Gorczynska M I, Harborne A R,Pescod C L and Renken H 2004 Mangroves enhance thebiomass of coral reef ﬁsh communities in the Caribbean Nature\\n427533 –6\\nPendleton L, Donato D C, Murray B C, Crooks S, Jenkins W A,\\nSiﬂeet S, Craft C, Fourqurean J W, Kauffman J B and Marbà N\\n2012 Estimating global ‘blue carbon ’emissions from\\nconversion and degradation of vegetated coastal ecosystemsPloS one 7e43542\\nQuinlan J R 1996 Bagging, Boosting, And C4.5 Proc. 13th National\\nConf. on Arti ﬁcial Intelligence (Portland, OR) (Palo Alto, CA:\\nAAAI Press) vol 1, pp 725 –30\\nShepard C C, Crain C M and Beck M W 2011 The protective role of\\ncoastal marshes: a systematic review and meta-analysis PloS\\none6e27374\\nSiikamäki J, Sanchirico J N, Jardine S, McLaughlin D and Morris D\\n2013 Blue carbon: coastal ecosystems, their carbon storage,and potential for reducing emissions Environ.: Sci. Policy\\nSustainable Dev. 5514–29\\nSiikamäki J, Sanchirico J N and Jardine S L 2012 Global economic\\npotential for reducing carbon dioxide emissions from\\nmangrove loss Proc. Natl. Acad. Sci. 10914369 –74\\nSnedaker S C 1995 Mangroves and climate change in the Florida\\nand Caribbean region: scenarios and hypotheses Asia-Paci ﬁc\\nSymposium on Mangrove Ecosystems (Dordrecht: Springer)\\npp 43 –9\\nSpalding M, Kainuma M and Collins L 2010 World Atlas of\\nMangroves (London: Earthscan)\\nTwilley R, Chen R and Hargis T 1992 Carbon sinks in mangroves\\nand their implications to carbon budget of tropical coastal\\necosystems Water Air Soil Pollut. 64265 –88\\nTwilley R, Snedaker S, Yáñez-Arancibia A and Medina E 1996\\nFunctional Roles of Biodiversity: A Global Perspective ed\\nH mooney et al (New York: Wiley) pp 327 –70\\nUN Food and Agricultural Org anization 2007 The world ’s mangroves\\n1980 –2005: a thematic study prepar ed in the framework of the\\nglobal forest resources assessment 2005 ed F (Rome: FAO)\\nValiela I, Bowen J L and York J K 2001 Mangrove Forests: one of\\nthe world ’s threatened major tropical environments: at least\\n35% of the area of mangrove forests has been lost in the past\\ntwo decades, losses that exceed those for tropical rain forestsand coral reefs, two other well-known threatened environmentsBioscience 51807 –15\\nVarian H R 2014 Big data: new tricks for econometrics J. Econ.\\nPersp. 283–27\\nWoodroffe C D and Grindrod J 1991 Mangrove biogeography: the\\nrole of quaternary environmental and sea-level change\\nJ. Biogeogr. 18479 –92\\n9Environ. Res. Lett. 9(2014) 104013 S L Jardine and J V Siikamäki'"
      ]
     },
     "execution_count": 12,
     "metadata": {},
     "output_type": "execute_result"
    }
   ],
   "source": [
    "text"
   ]
  },
  {
   "cell_type": "code",
   "execution_count": null,
   "id": "37e918e0-8fbb-486e-89f8-feeb0693374f",
   "metadata": {},
   "outputs": [],
   "source": []
  },
  {
   "cell_type": "code",
   "execution_count": null,
   "id": "08fa821c-fbeb-4cf1-a80f-f854265e093f",
   "metadata": {},
   "outputs": [],
   "source": [
    "import os\n",
    "from PyPDF2 import PdfReader\n",
    "pdf_dir='/home/jovyan/workspace/MangrovePDFs'\n",
    "def extract_pdf_text(pdf_path):\n",
    "    pdf_reader=PdfReader(pdf_path)\n",
    "    text=''\n",
    "    for i in range(len(pdf_reader.pages)):\n",
    "        page=pdf_reader.pages[i]\n",
    "        text +=page.extract_text()\n",
    "    return text\n",
    "for filename in os.listdir(pdf_dir):\n",
    "    if filename.endswith('.pdf')\n",
    "    pdf_path=os.path.join(pdf_dir,filename)\n",
    "    pdf_text=extract_pdf_text(pdf_path)\n",
    "    print(f\"PDF: {filename}\\nText: {pdf_text[:100]}...\\n{'=' * 30}\")"
   ]
  },
  {
   "cell_type": "code",
   "execution_count": 28,
   "id": "fa761f7b-9940-4100-8e99-14560f113d69",
   "metadata": {
    "execution": {
     "iopub.execute_input": "2023-08-17T22:15:03.047893Z",
     "iopub.status.busy": "2023-08-17T22:15:03.047513Z",
     "iopub.status.idle": "2023-08-17T22:15:23.798186Z",
     "shell.execute_reply": "2023-08-17T22:15:23.797498Z",
     "shell.execute_reply.started": "2023-08-17T22:15:03.047869Z"
    },
    "tags": []
   },
   "outputs": [
    {
     "name": "stdout",
     "output_type": "stream",
     "text": [
      "PDF: Simulating-spatial-change-of-m-8cd5240a-17b3-4292-957d-5005ea324adc.pdf\n",
      "Text: Simulating spatial change of mangrove habitat under the impact of\n",
      "coastal land use: Coupling MaxEnt ...\n",
      "==============================\n",
      "PDF: The-global-mangrove-watch-a-ne-4abecf89-c8a2-4e96-9c66-98c850be668f.pdf\n",
      "Text: remote sensing  \n",
      "Article\n",
      "The Global Mangrove Watch—A New 2010 Global\n",
      "Baseline of Mangrove Extent\n",
      "Pet...\n",
      "==============================\n",
      "PDF: Novel-coexisting-mangrove-cora-28bc8593-28fd-41c5-8a5a-3589b3a7fb86.pdf\n",
      "Text: ZK[KF ZIN FZ\\OIS K\n",
      "U{vow m{oxt€ttzr ykzr~{vo/m{~kw sklttkt€>\n",
      "Kxtoz€tvo m{~kw m{yyuzttto€ w{mkton noo...\n",
      "==============================\n",
      "PDF: Change-and-fragmentation-trend-373ec694-c9f4-4e7a-a647-0864880525a4.pdf\n",
      "Text: Change and fragmentation trends of Zhanjiang mangrove forests in\n",
      "southern China using multi-temporal...\n",
      "==============================\n",
      "PDF: Jardine_2014_Environ._Res._Lett._9_104013.pdf\n",
      "Text: LETTER • OPEN ACCESS\n",
      "A global predictive model of carbon in mangrove\n",
      "soils\n",
      "To cite this article: Sun...\n",
      "==============================\n",
      "PDF: A-New-Vegetation-Index-to-Dete-35086913-d72d-4d90-b224-4bd93a517488.pdf\n",
      "Text: remote sensing  \n",
      "Article\n",
      "A New Vegetation Index to Detect Periodically\n",
      "Submerged Mangrove Forest Usi...\n",
      "==============================\n",
      "PDF: Variations-in-Soil-Blue-Carbon-d830b16e-c510-4377-93e6-01cdde446dce.pdf\n",
      "Text: Citation: Chowdhury, A.; Naz, A.;\n",
      "Maiti, S.K. Variations in Soil Blue\n",
      "Carbon Sequestration between\n",
      "N...\n",
      "==============================\n",
      "PDF: ExpFile.pdf\n",
      "Text: LETTER • OPEN ACCESS\n",
      "A global predictive model of carbon in mangrove\n",
      "soils\n",
      "To cite this article: Sun...\n",
      "==============================\n"
     ]
    }
   ],
   "source": [
    "import os\n",
    "from PyPDF2 import PdfReader\n",
    "\n",
    "# Directory path for the PDFs\n",
    "pdf_dir='/home/jovyan/workspace/MangrovePDFs'\n",
    "\n",
    "# Function to extract text from PDFs\n",
    "def extract_pdf_text(pdf_path):\n",
    "    pdf_reader = PdfReader(pdf_path)\n",
    "    text = ''\n",
    "    \n",
    "    for i in range(len(pdf_reader.pages)):\n",
    "        page = pdf_reader.pages[i]\n",
    "        text += page.extract_text()\n",
    "    \n",
    "    return text\n",
    "\n",
    "# Loop through PDFs and extract text\n",
    "for filename in os.listdir(pdf_dir):\n",
    "    if filename.endswith('.pdf'):\n",
    "        pdf_path = os.path.join(pdf_dir, filename)\n",
    "        pdf_text = extract_pdf_text(pdf_path)\n",
    "        print(f\"PDF: {filename}\\nText: {pdf_text[:100]}...\\n{'=' * 30}\")\n"
   ]
  },
  {
   "cell_type": "code",
   "execution_count": null,
   "id": "e9b79274-48c4-4c0e-9b1b-cd04deb77e12",
   "metadata": {},
   "outputs": [],
   "source": []
  },
  {
   "cell_type": "code",
   "execution_count": null,
   "id": "c55f297f-5c76-4147-92e0-e8b18066317f",
   "metadata": {},
   "outputs": [],
   "source": []
  },
  {
   "cell_type": "code",
   "execution_count": null,
   "id": "93771baf-e8cd-44a0-b6fe-6de1a55ff091",
   "metadata": {},
   "outputs": [],
   "source": []
  },
  {
   "cell_type": "code",
   "execution_count": null,
   "id": "ff3cb3b1-93b9-4d6f-94d9-507cb6a489c0",
   "metadata": {},
   "outputs": [],
   "source": []
  },
  {
   "cell_type": "code",
   "execution_count": null,
   "id": "5d5af250-26dc-4677-b5bb-83b270643fe2",
   "metadata": {},
   "outputs": [],
   "source": []
  },
  {
   "cell_type": "code",
   "execution_count": null,
   "id": "461d3713-42a6-4c95-88fe-da5c794a4b98",
   "metadata": {},
   "outputs": [],
   "source": []
  }
 ],
 "metadata": {
  "kernelspec": {
   "display_name": "saturn (Python 3)",
   "language": "python",
   "name": "python3"
  },
  "language_info": {
   "codemirror_mode": {
    "name": "ipython",
    "version": 3
   },
   "file_extension": ".py",
   "mimetype": "text/x-python",
   "name": "python",
   "nbconvert_exporter": "python",
   "pygments_lexer": "ipython3",
   "version": "3.9.15"
  }
 },
 "nbformat": 4,
 "nbformat_minor": 5
}
